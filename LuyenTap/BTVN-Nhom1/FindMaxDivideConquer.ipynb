{
 "metadata": {
  "language_info": {
   "codemirror_mode": {
    "name": "ipython",
    "version": 3
   },
   "file_extension": ".py",
   "mimetype": "text/x-python",
   "name": "python",
   "nbconvert_exporter": "python",
   "pygments_lexer": "ipython3",
   "version": 3
  },
  "orig_nbformat": 2
 },
 "nbformat": 4,
 "nbformat_minor": 2,
 "cells": [
  {
   "source": [
    "# Find Index of Max Element\n"
   ],
   "cell_type": "markdown",
   "metadata": {}
  },
  {
   "source": [
    "# 1. Mã nguồn"
   ],
   "cell_type": "markdown",
   "metadata": {}
  },
  {
   "cell_type": "code",
   "execution_count": null,
   "metadata": {},
   "outputs": [],
   "source": [
    "def find_max(arr):\n",
    "    n=len(arr)\n",
    "    if n==1:\n",
    "        return 0\n",
    "    if n==2:\n",
    "        return 0 if arr[0]>arr[1] else 1\n",
    "    \n",
    "    mid=len(arr)//2\n",
    "    left=arr[0:mid]\n",
    "    right=arr[mid:len(arr)]\n",
    "\n",
    "    A=find_max(left)\n",
    "    B=find_max(right) + mid\n",
    "\n",
    "    return A if arr[A] > arr[B] else B\n",
    "\n",
    "print(find_max(a))\n"
   ]
  },
  {
   "source": [],
   "cell_type": "markdown",
   "metadata": {}
  },
  {
   "source": [
    "# 2. Độ phức tạp thuật toán\n",
    "$T(n) = 2T(n/2) + n$\n",
    "\n",
    "$O(n) = nlog(n)$\n"
   ],
   "cell_type": "markdown",
   "metadata": {}
  },
  {
   "source": [
    "# So sánh với thuật toán Brute Force\n",
    "\n",
    "- Ưu điểm:\n",
    "    - Không có ưu điểm\n",
    "- Nhược điểm:\n",
    "    - Khó cài đặt\n",
    "    - Độ phức tạp lớn hơn về không gian bộ nhớ và thời gian thực thi"
   ],
   "cell_type": "markdown",
   "metadata": {}
  }
 ]
}