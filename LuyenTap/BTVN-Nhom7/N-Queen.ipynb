{
 "metadata": {
  "language_info": {
   "codemirror_mode": {
    "name": "ipython",
    "version": 3
   },
   "file_extension": ".py",
   "mimetype": "text/x-python",
   "name": "python",
   "nbconvert_exporter": "python",
   "pygments_lexer": "ipython3",
   "version": "3.9.4"
  },
  "orig_nbformat": 2,
  "kernelspec": {
   "name": "python394jvsc74a57bd0e7370f93d1d0cde622a1f8e1c04877d8463912d04d973331ad4851f04de6915a",
   "display_name": "Python 3.9.4 64-bit"
  },
  "metadata": {
   "interpreter": {
    "hash": "e7370f93d1d0cde622a1f8e1c04877d8463912d04d973331ad4851f04de6915a"
   }
  }
 },
 "nbformat": 4,
 "nbformat_minor": 2,
 "cells": [
  {
   "source": [
    "\n",
    "You are an event coordinator for a royal event where king of N countries attend. Each king accompanies with one queen. Your job is to arrange seats for the queens in a hall consists of N × N seats while the kings are having meeting.\n",
    "\n",
    "There a rule that no queen is allowed to see another. To simplify the problem, each queen can look in 8\n",
    "directions:\n",
    "\n",
    "- Front\n",
    "- Back\n",
    "- Right\n",
    "- Left\n",
    "- and 4 directions in between\n",
    "\n",
    "A queen sees another went the other queen is on the path in one of the 8 directions listed above.\n",
    "\n",
    "*Input:*\n",
    "\n",
    "- N for the size of the area and numbers of queens.\n",
    "N = 8\n",
    "\n",
    "*Output:*\n",
    "\n",
    "1 0 0 0 0 0 0 0\n",
    "\n",
    "0 0 0 0 0 0 1 0\n",
    "\n",
    "0 0 0 0 1 0 0 0\n",
    "\n",
    "0 0 0 0 0 0 0 1\n",
    "\n",
    "0 1 0 0 0 0 0 0\n",
    "\n",
    "0 0 0 1 0 0 0 0\n",
    "\n",
    "0 0 0 0 0 1 0 0\n",
    "\n",
    "0 0 1 0 0 0 0 0"
   ],
   "cell_type": "markdown",
   "metadata": {}
  },
  {
   "cell_type": "code",
   "execution_count": 64,
   "metadata": {},
   "outputs": [
    {
     "output_type": "stream",
     "name": "stdout",
     "text": [
      "1 0 0 0 0 0 0 0 \n0 0 0 0 0 0 1 0 \n0 0 0 0 1 0 0 0 \n0 0 0 0 0 0 0 1 \n0 1 0 0 0 0 0 0 \n0 0 0 1 0 0 0 0 \n0 0 0 0 0 1 0 0 \n0 0 1 0 0 0 0 0 \n"
     ]
    }
   ],
   "source": [
    "def PrintArr(arr,n):\n",
    "    for i in range(n):\n",
    "        for j in range(n):\n",
    "            print(arr[i][j],end=' ')\n",
    "        print(end='\\n')\n",
    "\n",
    "def Check(arr,row, col,n):\n",
    "    for i in range(0,n):\n",
    "        if arr[row][i]==1 or arr[i][col]==1:\n",
    "            return False\n",
    "    for i in range(0,n):\n",
    "        for j in range(0,n):\n",
    "            if (i+j==row+col) or (i-j==row-col):\n",
    "                if arr[i][j]==1:\n",
    "                    return False\n",
    "    return True\n",
    "\n",
    "def NofQueen(arr,col,n):\n",
    "    if col >= n:\n",
    "        return True\n",
    "    for i in range(n):\n",
    "        if Check(arr,i,col,n)==1:\n",
    "            arr[i][col]=1\n",
    "            if NofQueen(arr,col+1,n) == True:\n",
    "                return True\n",
    "            arr[i][col]=0\n",
    "    return False\n",
    "n=8\n",
    "arr=[[0]*n for _ in range(n)]\n",
    "if NofQueen(arr,0,n):\n",
    "    PrintArr(arr,n)\n",
    "else:\n",
    "    print(\"can't solve\")"
   ]
  },
  {
   "cell_type": "code",
   "execution_count": null,
   "metadata": {},
   "outputs": [],
   "source": []
  }
 ]
}