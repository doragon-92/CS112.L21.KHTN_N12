{
 "metadata": {
  "language_info": {
   "codemirror_mode": {
    "name": "ipython",
    "version": 3
   },
   "file_extension": ".py",
   "mimetype": "text/x-python",
   "name": "python",
   "nbconvert_exporter": "python",
   "pygments_lexer": "ipython3",
   "version": 3
  },
  "orig_nbformat": 2
 },
 "nbformat": 4,
 "nbformat_minor": 2,
 "cells": [
  {
   "source": [
    "\n",
    "You are an event coordinator for a royal event where king of N countries attend. Each king accompanies with one queen. Your job is to arrange seats for the queens in a hall consists of N × N seats while the kings are having meeting.\n",
    "\n",
    "There a rule that no queen is allowed to see another. To simplify the problem, each queen can look in 8\n",
    "directions:\n",
    "\n",
    "- Front\n",
    "- Back\n",
    "- Right\n",
    "- Left\n",
    "- and 4 directions in between\n",
    "\n",
    "A queen sees another went the other queen is on the path in one of the 8 directions listed above.\n",
    "\n",
    "*Input:*\n",
    "\n",
    "- N for the size of the area and numbers of queens.\n",
    "N = 8\n",
    "\n",
    "*Output:*\n",
    "\n",
    "1 0 0 0 0 0 0 0\n",
    "\n",
    "0 0 0 0 0 0 1 0\n",
    "\n",
    "0 0 0 0 1 0 0 0\n",
    "\n",
    "0 0 0 0 0 0 0 1\n",
    "\n",
    "0 1 0 0 0 0 0 0\n",
    "\n",
    "0 0 0 1 0 0 0 0\n",
    "\n",
    "0 0 0 0 0 1 0 0\n",
    "\n",
    "0 0 1 0 0 0 0 0"
   ],
   "cell_type": "markdown",
   "metadata": {}
  }
 ]
}