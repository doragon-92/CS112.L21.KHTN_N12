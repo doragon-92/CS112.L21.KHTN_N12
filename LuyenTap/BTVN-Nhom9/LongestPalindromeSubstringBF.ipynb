{
 "metadata": {
  "language_info": {
   "codemirror_mode": {
    "name": "ipython",
    "version": 3
   },
   "file_extension": ".py",
   "mimetype": "text/x-python",
   "name": "python",
   "nbconvert_exporter": "python",
   "pygments_lexer": "ipython3",
   "version": 3
  },
  "orig_nbformat": 2
 },
 "nbformat": 4,
 "nbformat_minor": 2,
 "cells": [
  {
   "source": [
    "# Problem \n",
    "\n",
    "Given string S, using brute force algorithm to find the longest palindrome substring of S.\n",
    "\n",
    "**Input Format**\n",
    "\n",
    "A string S.\n",
    "\n",
    "**Constraints**\n",
    "- $0<=len(S)<=2000$\n",
    "- S can contain lowercase, uppercase and digits.\n",
    "\n",
    "**Output Format**\n",
    "\n",
    "Print the length of the longest palindrome substring and it, separate by a space.\n",
    "\n",
    "**Sample Input 0**\n",
    "> ToT\n",
    "\n",
    "**Sample Output 0**\n",
    "> 3 ToT\n",
    "\n",
    "**Explanation 0**\n",
    "3 is the length of longest palindrome substring and 'ToT' is the longest palindrome substring.\n",
    "\n",
    "**Sample Input 1**\n",
    "> ababc\n",
    "\n",
    "**Sample Output 1**\n",
    "> 3 aba\n",
    "\n",
    "**Explanation 1**\n",
    "\n",
    "Both 'aba' and 'bab' are the longest palindrome substring. Therefore, return the first one found."
   ],
   "cell_type": "markdown",
   "metadata": {}
  },
  {
   "source": [
    "# Source Code"
   ],
   "cell_type": "markdown",
   "metadata": {}
  },
  {
   "cell_type": "code",
   "execution_count": null,
   "metadata": {},
   "outputs": [],
   "source": [
    "import sys\n",
    "S = sys.stdin.readline()\n",
    "if len(S) == 0:\n",
    "    print(0, '')\n",
    "    exit(0)\n",
    "\n",
    "def checkPalindrome(s):\n",
    "    for i in range(len(s) // 2):\n",
    "        if s[i] != s[len(s) - i - 1]:\n",
    "            return False\n",
    "    return True\n",
    "    \n",
    "for pad in range(len(S), 0, -1):\n",
    "    for start in range(0, len(S) - pad + 1):\n",
    "        subString = S[start:start+pad]\n",
    "        if checkPalindrome(subString) == True:\n",
    "            print(len(subString), subString)\n",
    "            exit(0)"
   ]
  }
 ]
}