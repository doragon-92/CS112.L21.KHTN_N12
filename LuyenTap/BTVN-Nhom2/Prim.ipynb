{
 "metadata": {
  "language_info": {
   "codemirror_mode": {
    "name": "ipython",
    "version": 3
   },
   "file_extension": ".py",
   "mimetype": "text/x-python",
   "name": "python",
   "nbconvert_exporter": "python",
   "pygments_lexer": "ipython3",
   "version": 3
  },
  "orig_nbformat": 2
 },
 "nbformat": 4,
 "nbformat_minor": 2,
 "cells": [
  {
   "source": [
    "**Yêu cầu:**\n",
    "Chứng minh bài toán tìm cây khung nhỏ nhất sử dụng thuật toán Prim có đặc điểm nhận dạng của thuật toán tham lam.\n",
    "- có cấu trúc con tối ưu: Trong thuật toán Prim mỗi khi ta thêm một đỉnh mới vào mstSet thì ta luôn được một cây khung nhỏ nhất của các đỉnh đó. Sau khi thêm tất cả các đỉnh vào mstSet thì thuật toán dừng lại.\n",
    "- có đặc tính tham lam: Trong thuật toán ta sẽ không so sánh lại với các cạnh đã chọn.\n"
   ],
   "cell_type": "markdown",
   "metadata": {}
  }
 ]
}