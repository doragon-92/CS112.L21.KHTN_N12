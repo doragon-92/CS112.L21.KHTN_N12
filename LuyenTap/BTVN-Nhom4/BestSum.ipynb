{
 "metadata": {
  "language_info": {
   "codemirror_mode": {
    "name": "ipython",
    "version": 3
   },
   "file_extension": ".py",
   "mimetype": "text/x-python",
   "name": "python",
   "nbconvert_exporter": "python",
   "pygments_lexer": "ipython3",
   "version": 3
  },
  "orig_nbformat": 2
 },
 "nbformat": 4,
 "nbformat_minor": 2,
 "cells": [
  {
   "cell_type": "code",
   "execution_count": null,
   "metadata": {},
   "outputs": [],
   "source": [
    "def bestSum(l,s,mem={}):\n",
    "    if s in mem:\n",
    "        return mem[s]\n",
    "    elif s == 0:\n",
    "        return []\n",
    "    elif s < 0:\n",
    "        return None\n",
    "    min = None\n",
    "    for i in l:\n",
    "        tmp=s-i\n",
    "        tmp_1=bestSum(l,tmp,mem)\n",
    "        if tmp_1 != None:\n",
    "            store=[i]\n",
    "            store= store + tmp_1\n",
    "            if min == None or len(min)>len(store):\n",
    "                min= store\n",
    "    mem[s]=min\n",
    "    return min\n",
    "    \n",
    "\n",
    "l = list(map(int,input().split()))\n",
    "s = int(input())\n",
    "\n",
    "print(bestSum(l,s))\n"
   ]
  }
 ]
}