{
 "metadata": {
  "language_info": {
   "codemirror_mode": {
    "name": "ipython",
    "version": 3
   },
   "file_extension": ".py",
   "mimetype": "text/x-python",
   "name": "python",
   "nbconvert_exporter": "python",
   "pygments_lexer": "ipython3",
   "version": 3
  },
  "orig_nbformat": 2
 },
 "nbformat": 4,
 "nbformat_minor": 2,
 "cells": [
  {
   "source": [
    "**Yêu cầu:**\n",
    "Chứng minh bài toán tìm cây khung nhỏ nhất sử dụng thuật toán Prim có đặc điểm nhận dạng của thuật toán tham lam.\n"
   ],
   "cell_type": "markdown",
   "metadata": {}
  }
 ]
}