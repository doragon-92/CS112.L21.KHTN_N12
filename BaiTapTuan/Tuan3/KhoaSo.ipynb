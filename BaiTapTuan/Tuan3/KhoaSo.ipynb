{
 "metadata": {
  "language_info": {
   "codemirror_mode": {
    "name": "ipython",
    "version": 3
   },
   "file_extension": ".py",
   "mimetype": "text/x-python",
   "name": "python",
   "nbconvert_exporter": "python",
   "pygments_lexer": "ipython3",
   "version": 3
  },
  "orig_nbformat": 2
 },
 "nbformat": 4,
 "nbformat_minor": 2,
 "cells": [
  {
   "source": [
    "# Nhóm 12\n",
    "# Khóa số\n",
    "## Đề bài\n",
    "Để tăng độ an toàn chống hiện tượng cướp ngân hàng ngày càng phổ biến người ta dùng khóa số với mã mở khóa đơn giản nhưng rất hiệu quả. Trên cửa ra vào hiển thị một xâu khá dài các ký tự số. Các chữ số có thể di chuyển đổi chổ cho nhau hoặc bị xóa. Muốn mở khóa người ta phải di chuyển các chữ số và trong trường hợp cần thiết – xóa vài chữ số để nhận được xâu lớn nhất thỏa mãn điều kiện đã cài đặt. Điều kiện này được thay đổi thường xuyên. Hôm nay điều kiện đó là “Số nhận được phải chia hết cho 3”. Số nhận được có thể bắt đầu bằng các chữ số 0. Xâu “000” sẽ lớn hơn xâu “00”.\n",
    "\n",
    "Hãy xác định khóa mở cửa.\n",
    "\n",
    "**Dữ liệu**: Vào từ thiết bị nhập chuẩn gồm một xâu ký tự số có độ dài lớn hơn 2 và không vượt quá 105.\n",
    "\n",
    "**Kết quả**: Đưa ra thiết bị xuất chuẩn xâu khóa mở cửa.\n",
    "\n",
    "# 1. Abstraction\n",
    "Biến đổi một mảng số (xóa, đổi chỗ) sao cho mảng đó tạo thành một số lớn nhất chia hết cho 3.\n",
    "\n",
    "# 2. Pattern Recognition\n",
    "Tạo bảng phân bố giá trị từ mảng.\n",
    "\n",
    "Biến đổi để tổng giá trị mảng thỏa yêu cầu\n",
    "\n",
    "# 3. Algorithm Design\n",
    "\n",
    "- Nhập input: lưu các chữ số của số nguyên n vào một mảng 10 phần tử  có $index = [0;9]$. giá trị của mỗi phần tử tương ứng với số lượng chữ số index tương ứng có trong n. Đồng thời tình $sum$ (tổng các chữ số của n)\n",
    "\n",
    "- xử  lý: để n là số lớn nhất chia hết cho 3 thì ta phải xóa các số nhỏ nhất sao cho tổng các chữ số của n chia hết cho 3\n",
    "    - TH1: $sum%3 = 0$: chuyển qua bước xuất output\n",
    "    - TH2: $sum%3 = 1$: xóa 1 số nhỏ nhất chia cho 3 dư 1 hoặc xóa 2 số nhỏ nhất chia cho 3 dư 2\n",
    "    - TH3: $sum%3 = 2$: xóa 1 số nhỏ nhất chia cho 3 dư 2 hoặc xóa 2 số nhỏ nhất chia cho 3 dư 1\n",
    "\n",
    "- Xuất output: ta xuất các index của mảng bằng với giá trị chứa trong index đó theo thứ tự từ lớn đến nhỏ\n",
    "# 4. Đánh giá độ phức tạp\n",
    "Độ phức tạp: $O(n)$\n",
    "\n",
    "# 5. Programming\n"
   ],
   "cell_type": "markdown",
   "metadata": {}
  },
  {
   "cell_type": "code",
   "execution_count": null,
   "metadata": {},
   "outputs": [],
   "source": [
    "# Nhập input\n",
    "a = [0] * 10\n",
    "sum = 0\n",
    "for i in input().strip():\n",
    "    a[int(i)] += 1\n",
    "    sum += int(i)\n",
    "# Xử lý\n",
    "def delPass(a):\n",
    "    r = sum % 3\n",
    "    if r == 0:\n",
    "        return\n",
    "    for i in range(r, 9, 3):\n",
    "        if a[i] > 0:\n",
    "            a[i] -= 1\n",
    "            break\n",
    "    else:\n",
    "        for i in range(3-r, 9, 3):\n",
    "            if a[i] > 0:\n",
    "                a[i] -= 1\n",
    "        for i in range(3-r, 9, 3):\n",
    "            if a[i] > 0:\n",
    "                a[i] -= 1\n",
    "#Xuất output\n",
    "def printPass(a):\n",
    "    for i, v in zip(range(9, -1, -1), a[::-1]):\n",
    "        if v != 0:\n",
    "            print(str(i) * v, end='', sep='')\n",
    "\n",
    "delPass(a)\n",
    "printPass(a)"
   ]
  }
 ]
}