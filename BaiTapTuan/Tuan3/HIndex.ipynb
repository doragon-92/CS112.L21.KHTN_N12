{
 "metadata": {
  "language_info": {
   "codemirror_mode": {
    "name": "ipython",
    "version": 3
   },
   "file_extension": ".py",
   "mimetype": "text/x-python",
   "name": "python",
   "nbconvert_exporter": "python",
   "pygments_lexer": "ipython3",
   "version": 3
  },
  "orig_nbformat": 2
 },
 "nbformat": 4,
 "nbformat_minor": 2,
 "cells": [
  {
   "source": [
    "# Nhóm 12\n",
    "# H-Index\n",
    "## Đề bài\n",
    "\n",
    "# 1. Abstraction\n",
    "Tìm k chữ số lớn hơn hoặc bằng k trong mảng A gồm n phần tử.\n",
    "\n",
    "# 2. Pattern Recognition\n",
    "\n",
    "\n",
    "# 3. Algorithm Design\n",
    "```\n",
    "Ta có: n, a[]\n",
    "    a.sort(reverse=True)\n",
    "    FOR i=n-1 TO 0:\n",
    "        if a[i] >= i:\n",
    "        h_index=i\n",
    "        break\n",
    "```\n",
    "# 4. Đánh giá độ phức tạp\n",
    "\n",
    "\n",
    "# 5. Programming\n",
    "     "
   ],
   "cell_type": "markdown",
   "metadata": {}
  },
  {
   "cell_type": "code",
   "execution_count": null,
   "metadata": {},
   "outputs": [],
   "source": [
    "n=int(input())\n",
    "a=list(map(int,input().split()))\n",
    "a.sort(reverse=True)\n",
    "h_index = n\n",
    "for i in range(n-1, 0, -1):\n",
    "    if a[i] >= i:\n",
    "        h_index = i\n",
    "        break\n",
    "print(h_index+1)"
   ]
  }
 ]
}