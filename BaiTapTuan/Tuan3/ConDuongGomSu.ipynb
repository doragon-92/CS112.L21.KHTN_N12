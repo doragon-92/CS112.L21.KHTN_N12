{
 "metadata": {
  "language_info": {
   "codemirror_mode": {
    "name": "ipython",
    "version": 3
   },
   "file_extension": ".py",
   "mimetype": "text/x-python",
   "name": "python",
   "nbconvert_exporter": "python",
   "pygments_lexer": "ipython3",
   "version": 3
  },
  "orig_nbformat": 2
 },
 "nbformat": 4,
 "nbformat_minor": 2,
 "cells": [
  {
   "source": [
    "# Nhóm 12\n",
    "# Con Đường Gốm Sứ\n",
    "## Đề bài\n",
    "\n",
    "# 1. Abstraction\n",
    "\n",
    "# 2. Pattern Recognition\n",
    "\n",
    "# 3. Algorithm Design\n",
    "\n",
    "# 4. Đánh giá độ phức tạp\n",
    "\n",
    "# 5. Programming\n"
   ],
   "cell_type": "markdown",
   "metadata": {}
  }
 ]
}