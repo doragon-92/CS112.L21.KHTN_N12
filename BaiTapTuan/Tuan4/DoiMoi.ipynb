{
 "metadata": {
  "language_info": {
   "codemirror_mode": {
    "name": "ipython",
    "version": 3
   },
   "file_extension": ".py",
   "mimetype": "text/x-python",
   "name": "python",
   "nbconvert_exporter": "python",
   "pygments_lexer": "ipython3",
   "version": 3
  },
  "orig_nbformat": 2
 },
 "nbformat": 4,
 "nbformat_minor": 2,
 "cells": [
  {
   "source": [
    "# NHÓM 12\n",
    "# ĐỔI MỚI\n",
    "Thành phố quyết định chặt hạ hết $n$ cây xanh hiện có trong thành phố để trồng chỉ một loại cây mới. Nhiệm vụ được giao cho Công ty Cây xanh thành phố. Do hạn chế về thiết bị Công ty chỉ tổ chức được 2 đội đốn hạ cây. Đội I hạ được $a$ cây mỗi ngày, nhưng cứ mối ngày thứ $k$ thì phải nghỉ để bảo dưỡng kỹ thuật, tức là đội I sẽ nghỉ vào các ngày $k$, $2k$, $3k$, . . . Đội II hạ được $b$ cây mỗi ngày, nhưng cứ mỗi ngày thứ $m$ thì phải nghỉ để bảo dưỡng kỹ thuật, tức là đội II sẽ nghỉ vào các ngày $m$, $2m$, $3m$, . . . Ở ngày nghỉ, số cây chặt hạ của đội sẽ là 0. Cả hai đội bắt đầu công việc vào cùng một ngày và làm việc song song với nhau.\n",
    "\n",
    "Công việc trồng cây mới sẽ bắt đầu sau khi toàn bộ cây cũ đã bị đốn hạ.\n",
    "\n",
    "Hãy xác định sau bao nhiêu ngày thì có thể bắt đầu việc trồng mới cây.\n",
    "\n",
    "**Dữ liệu:** Vào từ thiết bị nhập chuẩn gồm một dòng chứa 5 số nguyên $a, k, b, m, n$  (1 ≤ a, b ≤ 10^9, 2 ≤ k, m ≤ 10^{18}, 1 ≤ n ≤ 10^{18}).$\n",
    "\n",
    "**Kết quả:** Đưa ra thiết bị xuất chuẩn một số nguyên – số ngày tính được.\n",
    "## 1.Abstraction\n",
    "Tìm nghiệm nhỏ nhất của bấc phương trình $f(x) = a(x - \\left\\lfloor \\frac{x}{k} \\right\\rfloor)  + b(x - \\left\\lfloor \\frac{x}{m} \\right\\rfloor) \\geq n$ với các tham số $a, k, b, m, n$ trong đó $n (1 ≤ a, b ≤ 10^9, 2 ≤ k, m ≤ 10^{18}, 1 ≤ n ≤ 10^{18}).$\n",
    "## 2.Patter Recognition\n",
    "Sử dụng vắt cạn\n",
    "## 3.Algorithm Design\n",
    "## 4.Độ phức tạp\n",
    "## 5.Programing"
   ],
   "cell_type": "markdown",
   "metadata": {}
  },
  {
   "cell_type": "code",
   "execution_count": null,
   "metadata": {},
   "outputs": [],
   "source": [
    "a, k, b, m, n = map(int, input().split())\n",
    "first = (k*m*n)/(m*a*(k - 1) + k*b*(m - 1))\n",
    "x = int(first) - 1\n",
    "while True:\n",
    "    if a*(x - x//k) + b*(x - x//m) >= n:\n",
    "        print(x)\n",
    "        break\n",
    "    x += 1"
   ]
  },
  {
   "cell_type": "code",
   "execution_count": null,
   "metadata": {},
   "outputs": [],
   "source": []
  }
 ]
}