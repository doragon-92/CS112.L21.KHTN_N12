{
 "metadata": {
  "language_info": {
   "codemirror_mode": {
    "name": "ipython",
    "version": 3
   },
   "file_extension": ".py",
   "mimetype": "text/x-python",
   "name": "python",
   "nbconvert_exporter": "python",
   "pygments_lexer": "ipython3",
   "version": 3
  },
  "orig_nbformat": 2
 },
 "nbformat": 4,
 "nbformat_minor": 2,
 "cells": [
  {
   "source": [
    "# NHÓM 12\n",
    "# Hệ Thống Cấp Nước\n",
    "\n",
    "Vùng đất diệu kỳ Wonderland có N hộ gia đình đã được trang bị một hệ thống cung cấp nước sạch đến từng ngôi nhà. Mỗi đường ống nối trực tiếp 2 nhà, nước chảy trong đường ống theo 2 chiều, có thể truyền qua nhiều trung gian trước khi đến một nhà nào đó. Trong hồ sơ lưu trữ, các ngôi nhà được ghi số từ 1 đến N.\n",
    "\n",
    "Một trận động đất đã gây nên sự cố nghiêm trọng làm cho cả vùng bị chia cắt thành nhiều khu vực rời nhau, không còn tiếp cận được với nguồn nước. Để khắc phục, những người có trách nhiệm đã khảo sát hiện trạng và ghi nhận được toàn vùng đất đang thảm họa vẫn còn M đường ống đang hoạt động tốt.\n",
    "\n",
    "Nhiệm vụ đặt ra là phải khôi phục hệ thống cấp nước bằng cách lắp thêm một số đường ống. Tuy nhiên, do hạn chế về thời gian và kinh phí nên đòi hỏi phương án khôi phục phải được thực hiện với ít đường ống được lắp thêm nhất. Câu hỏi đặt ra: cần lắp thêm ít nhất bao nhiêu đường ống để hệ thống cấp nước có thể đưa nước đến từng ngôi nhà. Câu hỏi phụ: có bao nhiêu phương án khác nhau đáp ứng yêu cầu; số phương án có thể khá lớn nên chỉ cần đưa ra số dư khi chia cho $10^9+7$.\n",
    "\n",
    "**Dữ liệu:** Vào từ thiết bị nhập chuẩn:\n",
    "\n",
    "Dòng đầu tiên chứa 2 số nguyên $N, M (1 ≤ N, M  ≤ 105)$\n",
    "\n",
    "Mỗi dòng trong M dòng tiếp theo chứa 2 số nguyên $a, b (1 ≤ a,  b ≤ N)$. cho biết vẫn còn đường ống nối nhà $a$ với nhà $b$\n",
    "\n",
    "**Kết quả:** Đưa ra thiết bị xuất chuẩn số đường ống cần được lắp thêm và số phương án đáp ứng yêu cầu (theo mô đun $10^9+7$) mỗi số trên một dòng.\n"
   ],
   "cell_type": "markdown",
   "metadata": {}
  },
  {
   "source": [
    "## 1.Abstraction\n",
    "Tìm số cạnh ít nhất để nối tất cả thành phần liên thông của đồ thị vô hướng thành một; và tìm số cách tạo ra các cạnh ấy."
   ],
   "cell_type": "markdown",
   "metadata": {}
  },
  {
   "source": [
    "## 2.Pattern Recognition\n",
    "- Đồ thị vô hướng\n",
    "- Depth first search"
   ],
   "cell_type": "markdown",
   "metadata": {}
  },
  {
   "source": [
    "## 3.Algorithm Design\n",
    "```Pseudo-code\n",
    "FUNCTION DFS(u):\n",
    "\n",
    "\n",
    "```"
   ],
   "cell_type": "markdown",
   "metadata": {}
  },
  {
   "source": [
    "## 4.Độ phức tạp\n",
    "$O(nlog(n))$"
   ],
   "cell_type": "markdown",
   "metadata": {}
  },
  {
   "source": [
    "## 5.Programing"
   ],
   "cell_type": "markdown",
   "metadata": {}
  },
  {
   "cell_type": "code",
   "execution_count": null,
   "metadata": {},
   "outputs": [],
   "source": [
    "import io, os, collections\n",
    "\n",
    "input = io.BytesIO(os.read(0, os.fstat(0).st_size)).readline\n",
    "\n",
    "n, m = map(int, input().split())\n",
    "\n",
    "graph = dict()\n",
    "group = 0\n",
    "factor = 1000000007\n",
    "\n",
    "mul_sol = 1\n",
    "sum_wise_element_group = 0\n",
    "single_element = 0\n",
    "\n",
    "for _ in range(m):\n",
    "    a, b = input().split()\n",
    "    if int(a) < 1 or int(b) < 1: continue\n",
    "    if int(a) > n or int(b) > n: continue\n",
    "    if a in graph:\n",
    "        graph[a].append(b)\n",
    "    else:\n",
    "        graph[a] = [b]\n",
    "\n",
    "    if b in graph:\n",
    "        graph[b].append(a)\n",
    "    else:\n",
    "        graph[b] = [a]\n",
    "\n",
    "visited = set()\n",
    "\n",
    "for key, value in graph.items():\n",
    "    if key in visited:\n",
    "        continue\n",
    "    visited.add(key)\n",
    "    to_visit = set(value)\n",
    "    count = 1\n",
    "    while len(to_visit) > 0:\n",
    "        node = to_visit.pop()\n",
    "        if node not in visited:\n",
    "            count += 1\n",
    "            visited.add(node)\n",
    "            if node in graph:\n",
    "                to_visit.update(graph[node])\n",
    "    if count > 1:\n",
    "        sum_wise_element_group += count \n",
    "        group += 1\n",
    "        mul_sol = (mul_sol * count) % factor\n",
    "\n",
    "single_element = n - sum_wise_element_group\n",
    "\n",
    "print(single_element + group - 1)\n",
    "if single_element + group - 1 == 0:\n",
    "    print(0)\n",
    "else:\n",
    "    for i in range(single_element + group - 2):\n",
    "        mul_sol = (mul_sol * n) % factor\n",
    "\n",
    "    print(mul_sol)"
   ]
  }
 ]
}