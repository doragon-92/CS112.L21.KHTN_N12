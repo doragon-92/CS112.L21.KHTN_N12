{
 "metadata": {
  "language_info": {
   "codemirror_mode": {
    "name": "ipython",
    "version": 3
   },
   "file_extension": ".py",
   "mimetype": "text/x-python",
   "name": "python",
   "nbconvert_exporter": "python",
   "pygments_lexer": "ipython3",
   "version": 3
  },
  "orig_nbformat": 2
 },
 "nbformat": 4,
 "nbformat_minor": 2,
 "cells": [
  {
   "source": [
    "# NHÓM 12\n",
    "# Số Nguyên Mới\n",
    "Cho số nguyên dương $n$ có không quá 100 chữ số. Hãy xác định số nguyên lớn nhất $m$ chia hết cho 3 và khác $n$ ở đúng một chữ số.\n",
    "\n",
    "Ví dụ, $n = 123$ thì $m$ sẽ là 723.\n",
    "\n",
    "Dữ liệu: Vào từ thiết bị nhập chuẩn gồm một dòng chứa số nguyên $n$ có không quá 100 chữ số và không chứa các số 0 không có nghĩa.\n",
    "\n",
    "Kết quả: Đưa ra thiết bị xuất chuẩn số nguyên $m$ tìm được.\n",
    "## 1.Abstraction\n",
    "Tìm số lớn nhất chia hết cho 3 khác số n 1 chữ số.\n",
    "## 2.Pattern Recognition\n",
    "Tìm tuyến tính\n",
    "## 3.Algorithm Design\n",
    "### 3.1 Vắt cạn\n",
    "- Thuật toán sẽ duyết từ số ở hàng lớn nhất tới số ở hàng bé nhất\n",
    "- Ở mỗi hàng ta chọn số lớn nhất có 1 chữ số  để thay vào hàng đó sao cho tổng các chữ số của n chia hết cho 3 và khác số ban đầu\n",
    "- Nếu số đó lớn hơn max thì lưu số đó vào max\n",
    "- kết thúc thúc thuật toán ta có max là số cần tìm\n",
    "### 3.2 Tìm tuyến tính\n",
    "- Đầu tiên ta tìm số lớn hơn số n:\n",
    "    * Thuật toán sẽ duyết từ số ở hàng lớn nhất tới số ở hàng bé nhất\n",
    "    * Ở mỗi hàng ta chọn số lớn nhất có 1 chữ số  để thay vào hàng đó sao cho tổng các chữ số của n chia hết cho 3 và phải lớn hơn số lúc đầu\n",
    "    * Nếu chọn được rồi thì dừng thuật toán\n",
    "- Nếu duyết tới hàng đơn vị mà không tìm được thì ta tìm số nhỏ hơn n:\n",
    "    * Ta chỉ cần duyệt ở hàng đơn vị từ 9 đến 3 để tìm ra số  lớn nhất thỏa đề \n",
    "## 4.Độ phức tạp\n",
    "độ phức tạp của thuật toán phụ thuộc số chữ số của n.\n",
    "### 3.1 Vét cạn\n",
    "Độ phức tạp: $O(n)$\n",
    "### 3.2 Tìm tuyến tính\n",
    "Độ phức tạp: $O(n)$\n",
    "\n",
    "Tuy cùng độ phức tạp nhưng tìm tuyến tính chạy nhanh hơn vì có điểm dừng tốt hơn.\n",
    "## 5.Programing\n",
    "### 3.1 Vét cạn"
   ],
   "cell_type": "markdown",
   "metadata": {}
  },
  {
   "cell_type": "code",
   "execution_count": null,
   "metadata": {},
   "outputs": [],
   "source": [
    "num = input().strip()\n",
    "sum = 0\n",
    "for i in num:\n",
    "    sum += int(i) \n",
    "def new_int(num, sum):\n",
    "    max = 0\n",
    "    for i in range(len(num)):\n",
    "        t = int(num[i])\n",
    "        s = sum - t\n",
    "        for j in range(9, 3, -1):\n",
    "            if (s + j)%3 == 0 and (t != j):\n",
    "                x = int(num[:i] + str(j) + num[i+1:])\n",
    "                if x > max: \n",
    "                    max = x\n",
    "    return max\n",
    "print(new_int(num, sum))"
   ]
  },
  {
   "source": [
    "### 3.2 Tìm tuyến tính"
   ],
   "cell_type": "markdown",
   "metadata": {}
  },
  {
   "cell_type": "code",
   "execution_count": null,
   "metadata": {},
   "outputs": [],
   "source": [
    "#nhập input\n",
    "num = input().strip()\n",
    "sum = 0\n",
    "#Tính tổng các chữ số\n",
    "for i in num:\n",
    "    sum += int(i)\n",
    "#Hàm tìm số \n",
    "def new_int(num, sum):\n",
    "    for i in range(len(num)):\n",
    "        t = int(num[i])\n",
    "        s = sum - t\n",
    "        for j in range(9, t, -1):\n",
    "            if (s + j)%3 == 0:\n",
    "                return i, j\n",
    "    for j in range(9, 3, -1):\n",
    "        t = int(num[-1])\n",
    "        s = sum - t\n",
    "        if (s + j)%3 == 0 and (t != j):\n",
    "            return i, j\n",
    "a, b = new_int(num, sum)\n",
    "print(num[:a] + str(b) + num[a+1:])"
   ]
  }
 ]
}