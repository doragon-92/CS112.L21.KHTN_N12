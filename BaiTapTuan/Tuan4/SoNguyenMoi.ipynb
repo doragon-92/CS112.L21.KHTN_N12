{
 "metadata": {
  "language_info": {
   "codemirror_mode": {
    "name": "ipython",
    "version": 3
   },
   "file_extension": ".py",
   "mimetype": "text/x-python",
   "name": "python",
   "nbconvert_exporter": "python",
   "pygments_lexer": "ipython3",
   "version": 3
  },
  "orig_nbformat": 2
 },
 "nbformat": 4,
 "nbformat_minor": 2,
 "cells": [
  {
   "source": [
    "# NHÓM 12\n",
    "# Số Nguyên Mới\n",
    "Cho số nguyên dương $n$ có không quá 100 chữ số. Hãy xác định số nguyên lớn nhất $m$ chia hết cho 3 và khác $n$ ở đúng một chữ số.\n",
    "\n",
    "Ví dụ, $n = 123$ thì $m$ sẽ là 723.\n",
    "\n",
    "Dữ liệu: Vào từ thiết bị nhập chuẩn gồm một dòng chứa số nguyên $n$ có không quá 100 chữ số và không chứa các số 0 không có nghĩa.\n",
    "\n",
    "Kết quả: Đưa ra thiết bị xuất chuẩn số nguyên $m$ tìm được.\n",
    "## 1.Abstraction\n",
    "## 2.Pattern Recognition\n",
    "## 3.Algorithm Design\n",
    "## 4.Độ phức tạp\n",
    "## 5.Programing"
   ],
   "cell_type": "markdown",
   "metadata": {}
  }
 ]
}