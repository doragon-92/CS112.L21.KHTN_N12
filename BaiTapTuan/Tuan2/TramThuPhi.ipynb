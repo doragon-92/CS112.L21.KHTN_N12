{
 "metadata": {
  "language_info": {
   "codemirror_mode": {
    "name": "ipython",
    "version": 3
   },
   "file_extension": ".py",
   "mimetype": "text/x-python",
   "name": "python",
   "nbconvert_exporter": "python",
   "pygments_lexer": "ipython3",
   "version": 3
  },
  "orig_nbformat": 2
 },
 "nbformat": 4,
 "nbformat_minor": 2,
 "cells": [
  {
   "source": [
    "# Nhóm 12\n",
    "# Trạm thu phí\n",
    "## Đề bài\n",
    "BOT (Built-Operation-Transfer, có nghĩa: Xây dựng-Vận hành-Chuyển giao) là hình thức Chính phủ kêu gọi các công ty bỏ vốn xây dựng trước (Built) thông qua đấu thầu, sau đó khai thác vận hành một thời gian (Operation) và sau cùng là chuyển giao (Transfer) lại cho nhà nước sở tại.\n",
    "\n",
    "Đường cao tốc xuyên quốc gia được xây dựng theo hình thức BOT. Công ty Đa quốc gia Modern Highway trúng thầu, chia toàn bộ con đường thành n đoạn. Theo tính toán của Công ty sau khi chuyển giao con đường cho chính phủ sở tại quản lý thì lãi thu được ở đoạn đường thứ i là ai, ai có thể dương, âm hoặc bằng 0, tức là với từng đoạn con có thể lãi, lỗ hoặc hòa vốn. Từng nhóm các đoạn đường liên tiếp nhau (gọi tắt là khoảng) được chia cho các công ty con thực hiện. Công ty con ASEAM Highway hiện đang có trụ sở ở nước sở tại được quyền chọn trước khoảng tùy ý (có thể là cả con đường).\n",
    "\n",
    "Dĩ nhiên Ban Giám đốc ASEAM Highway muốn chọn khoảng bắt đầu từ đoạn p đến hết đoạn q mang lại lợi nhuận cao nhất hoặc lỗ ít nhất nếu không có khoảng nào cho lãi.\n",
    "\n",
    "Hãy chỉ ra khoảng cần chọn và lãi thu được. Nếu có nhiều cách chọn thì chỉ ra cách chọn có p nhỏ nhất.\n",
    "\n",
    "**Dữ liệu**: Vào từ thiết bị nhập chuẩn:\n",
    "- Dòng đầu tiên chứa số nguyên n (1 ≤ n ≤ 106),\n",
    "- Dòng thứ 2 chứa n số nguyên a1, a2, . . ., an (0 ≤ |ai| ≤ 109, i = 1 ÷ n).\n",
    "\n",
    "**Kết quả**: Đưa ra thiết bị xuất chuẩn trên một dòng 2 số nguyên p, q và lãi thu được.\n",
    "\n",
    "# 1. Abstraction\n",
    "Cho dãy số a gồn n phần tử, tìm dãy con có tổng lớn nhất.\n",
    "\n",
    "# 2. Pattern Recognition\n",
    "**TH1**: Nếu tất cả phần tử là số dương \n",
    "- Output: là tất cả các phần từ của mảng\n",
    "\n",
    "**TH2**: Nếu tất cả phần từ là số âm\n",
    "- Output: là 1 phần tử âm nhỏ nhất \n",
    "\n",
    "Nếu đoạn (p, q) là đoạn có tổng lớn nhất \n",
    "\n",
    "Thì đoạn (0, p - 1) là đoạn có tổng nhỏ nhất và nhỏ hơn 0 \n",
    "\n",
    "# 3. Algorithm Design\n",
    "## a. Vắt cạn\n",
    "```\n",
    "max = 0, l = 0, r = 0\n",
    "FOR i = 0 TO i = n:\n",
    "    tmp = 0 để lưu tổng các giá trị từ i đến j\n",
    "    FOR j = i to j = n:\n",
    "        tmp = tmp + a[j]\n",
    "        Nếu tmp > max thì:\n",
    "            max = tmp\n",
    "            l = I\n",
    "            r = j\n",
    "```\n",
    "## b. Quy Hoạch động\n",
    "p, q: lần lượt là vị trí đầu và cuối của đoạn có tổng lớn nhất\n",
    "\n",
    "min: là tổng giá trị đoạn nhỏ nhất tính từ vị trí đầu tiên đến vị trí ta xét\n",
    "\n",
    "sum: là tổng giá trị từ đầu đến vị trí đang xét\n",
    "\n",
    "profit: là tổng giá trị của đoạn có tổng lớn nhất (sum - min)\n",
    "\n",
    "\n",
    "\n",
    "# 4. Đánh giá độ phức tạp\n",
    "\n",
    "# 5. Programming\n"
   ],
   "cell_type": "markdown",
   "metadata": {}
  },
  {
   "source": [
    "## a. Vắt cạn"
   ],
   "cell_type": "markdown",
   "metadata": {}
  },
  {
   "source": [
    "def tong_k(a):\n",
    "    _max = a[0]\n",
    "    l = 0\n",
    "    r = 0\n",
    "    for i in range(len(a)):\n",
    "        tmp = 0\n",
    "        for j in range(i,len(a)):\n",
    "            tmp += a[j]\n",
    "            if tmp > _max:\n",
    "                _max = tmp\n",
    "                l = i\n",
    "                r = j\n",
    "    return l, r, _max\n",
    "\n",
    "a=[1,6,6,6,8,3]\n",
    "print(tong_k(a))"
   ],
   "cell_type": "code",
   "metadata": {},
   "execution_count": null,
   "outputs": []
  },
  {
   "source": [
    "## b. Quy hoạch động"
   ],
   "cell_type": "markdown",
   "metadata": {}
  },
  {
   "cell_type": "code",
   "execution_count": null,
   "metadata": {},
   "outputs": [],
   "source": [
    "n = int(input())\n",
    "A = list(map(int, input().split()))\n",
    "mi, pivot, res, l, ans_l, ans_r = 0, 0, 0, -1, -1, -1\n",
    "for i in range(n):\n",
    "    pivot += A[i]\n",
    "    if (pivot < mi):\n",
    "        mi = pivot\n",
    "        l = i\n",
    "    if (pivot - mi > res):\n",
    "        res = pivot - mi\n",
    "        ans_l = l\n",
    "        ans_r = i\n",
    "print(ans_l + 2, ans_r + 1, res)"
   ]
  }
 ]
}