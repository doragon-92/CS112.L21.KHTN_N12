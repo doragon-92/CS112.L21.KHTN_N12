{
  "nbformat": 4,
  "nbformat_minor": 0,
  "metadata": {
    "language_info": {
      "codemirror_mode": {
        "name": "ipython",
        "version": 3
      },
      "file_extension": ".py",
      "mimetype": "text/x-python",
      "name": "python",
      "nbconvert_exporter": "python",
      "pygments_lexer": "ipython3",
      "version": "3.9.1-final"
    },
    "orig_nbformat": 2,
    "colab": {
      "name": "TaoBien.ipynb",
      "provenance": []
    },
    "kernelspec": {
      "name": "python3",
      "display_name": "Python 3.9.1 64-bit",
      "metadata": {
        "interpreter": {
          "hash": "458245e4c911b59bfab26b4166ff20e76bc52676d7a6a378bd146656a7ed3029"
        }
      }
    }
  },
  "cells": [
    {
      "cell_type": "markdown",
      "metadata": {
        "id": "6698okwHDNw0"
      },
      "source": [
        "# **Nhóm 12**\n",
        "# **Tảo biển**\n",
        "## Đề bài\n",
        "Tảo biển sinh sản rất nhanh khi có môi trường thuận lợi với chúng và có những loài còn tiết ra môi trường những chất độc hại. Một loại tảo nâu trong môi trường nước bị ô nhiễm nặng sinh sản theo quy luật sau:\n",
        "\n",
        "- Ngày đầu tiên (ngày 0) có n cá thể ở mức 1\n",
        "- Ở mỗi ngày tiếp theo, mỗi cá thể mức i sinh ra i cá thể mức 1, các cá thể mới sinh sẽ sinh sôi, phát triển từ ngày hôm sau.\n",
        "- Bản thân các cá thể mức i phát triển thành mức i+1 và chu kỳ phát triển trong ngày chấm dứt.\n",
        "\n",
        "Hãy xác định sau k ngày trong nước biển có bao nhiêu cá thể.\n",
        "\n",
        "**Dữ liệu**: Vào từ thiết bị nhập chuẩn gồm một dòng chứa 2 số nguyên n và k $(1 ≤ n ≤ 1000, 1 ≤ k ≤ 10^{18})$\n",
        "\n",
        "**Kết quả:** Đưa ra thiết bị xuất chuẩn một số nguyên – số lượng cá thể tảo theo mô đun $10^9+7$.\n",
        "\n",
        "# 1. Abstraction\n",
        "Cho $n, k$. Tính $F(2*k+1)*n$ (với $F(x)$ là số  thứ $x$ trong dãy Fibonacci)\n",
        "\n",
        "# 2. Pattern Recognition\n",
        "Bài toán tìm số thứ n trong dãy Fibonacci\n",
        "\n",
        "# 3. Algorithm Design\n",
        "## a. Giải Fibonacci bằng phương pháp thông thường\n",
        "Ta có định nghĩa dãy Fibonacci như sau:\n",
        "\n",
        "$F_0=0, F_1=1$\n",
        "\n",
        "$F_n=F_{n-1}+F_{n-2}$ (Với $n>1$)\n",
        "\n",
        "Từ công thức trên, ta có thể tính phần tử thứ n của dãy Fibonacci.\n",
        "\n",
        "Đệ quy:\n",
        "\n",
        "```\n",
        "Function Fibonacci(n):\n",
        "    IF n = 0 THEN return 0\n",
        "    ELSE IF n = 1 THEN return 1\n",
        "    ELSE RETURN Fibonacci(n-1) + Fibinacci(n-2)\n",
        "```\n",
        "\n",
        "Không đệ quy:\n",
        "\n",
        "```\n",
        "Function Fibonacci(n):\n",
        "    IF n = 0 THEN return 0\n",
        "    ELSE IF n = 1 THEN return 1\n",
        "    ELSE:\n",
        "        DECLARE pre2 := 0\n",
        "        DECLARE pre1 := 1\n",
        "        FOR i = 2 TO i = n:\n",
        "            DECLARE tmp := pre2 + pre1\n",
        "            pre2 := pre1\n",
        "            pre1 := tmp\n",
        "        return pre2\n",
        "```\n",
        "\n",
        "## b. Giải Fibonacci dùng phương pháp nhân ma trận\n",
        "Khi sử dụng phương pháp trên, chúng ta sẽ gặp nhiều vấn đề khi gặp input lớn. Vì vậy, chúng ta có thể sử dụng phép nhân ma trận để giải quyết vấn đề này.\n",
        "\n",
        "Ta có:\n",
        "$\n",
        "    \\begin{pmatrix}\n",
        "        1 & 1 \\\\\n",
        "        1 & 0\n",
        "    \\end{pmatrix} ^ n =\\begin{pmatrix}\n",
        "                          F_{n+1} & F_n \\\\\n",
        "                          F_n & F_{n-1}\n",
        "                        \\end{pmatrix}\n",
        "$\n",
        "\n",
        "Do đó, ta có thể tìm Fibonacci bằng ma trận\n",
        "```\n",
        "FUNCTION Fibonacci(n):\n",
        "    F=[[1,1],[1,0]]\n",
        "    IF n==0:\n",
        "        return 0\n",
        "    Pow(F,n-1)\n",
        "    return F[0][0]\n",
        "\n",
        "FUNCTION Mul_Matrix(A,B):\n",
        "    DECLARE result=[[0,0],[0,0]]\n",
        "    FOR i=0 to 1:\n",
        "        FOR j=0 to 1;\n",
        "            FOR k=0 to 1:\n",
        "                result[i][j]=result[i][j]+A[i][k]*B[k][j]\n",
        "        result[i][j]= result[i][j] % mod\n",
        "    return result\n",
        "\n",
        "FUNCTION Pow(F,n):\n",
        "    DECLARE temp=[[1,1],[1,0]]\n",
        "    FOR i=0 to n-1 :\n",
        "        Mul_Matrix(F,temp)\n",
        "        F = F % mod\n",
        "```\n",
        "# 4. Đánh giá độ phức tạp\n",
        "Độ phức tạp ứng với từng phương pháp:\n",
        "- Đệ quy: $O(2^n)$\n",
        "- Không đệ quy: $O(n)$\n",
        "- Dùng nhân ma trận: $O(log(n))$\n",
        "# 5. Programming"
      ]
    },
    {
      "source": [
        "## a. Phương pháp thông thường (đệ quy)"
      ],
      "cell_type": "markdown",
      "metadata": {}
    },
    {
      "cell_type": "code",
      "execution_count": null,
      "metadata": {},
      "outputs": [],
      "source": [
        "def Fibonacci(k):\n",
        "    if k == 0: return 0\n",
        "    if k == 1: return 1\n",
        "    result = Fibonacci(k-1) + Fibonacci(k-2)\n",
        "    result = result % mod\n",
        "    return result\n",
        "mod = 1000000007\n",
        "n, k = [int(i) for i in input().split()]\n",
        "print((Fibonacci(2*k + 1)*n)%mod)"
      ]
    },
    {
      "source": [
        "## b. Phương pháp thông thường (không đệ quy)"
      ],
      "cell_type": "markdown",
      "metadata": {}
    },
    {
      "cell_type": "code",
      "execution_count": null,
      "metadata": {},
      "outputs": [],
      "source": [
        "def Fibonacci(k):\n",
        "    if k == 0: return 0\n",
        "    if k == 1: return 1\n",
        "    per_0 = 0\n",
        "    per_1 = 1\n",
        "    mod = 1000000007\n",
        "    for i in range(2, k + 1):\n",
        "        tmp = per_0 + per_1\n",
        "        per_0 = per_1\n",
        "        per_1 = tmp%mod\n",
        "    return per_1\n",
        "mod = 1000000007\n",
        "n,k = [int(i) for i in input().split()]\n",
        "print((Fibonacci(k*2 + 1)*n)%mod)"
      ]
    },
    {
      "source": [
        "## c. Phương pháp sử dụng nhân ma trận"
      ],
      "cell_type": "markdown",
      "metadata": {}
    },
    {
      "cell_type": "code",
      "execution_count": 1,
      "metadata": {},
      "outputs": [
        {
          "output_type": "error",
          "ename": "ValueError",
          "evalue": "not enough values to unpack (expected 2, got 0)",
          "traceback": [
            "\u001b[1;31m---------------------------------------------------------------------------\u001b[0m",
            "\u001b[1;31mValueError\u001b[0m                                Traceback (most recent call last)",
            "\u001b[1;32m<ipython-input-1-60ec2f59c7f6>\u001b[0m in \u001b[0;36m<module>\u001b[1;34m\u001b[0m\n\u001b[0;32m     20\u001b[0m \u001b[1;33m\u001b[0m\u001b[0m\n\u001b[0;32m     21\u001b[0m \u001b[0mmod\u001b[0m \u001b[1;33m=\u001b[0m \u001b[1;36m1000000007\u001b[0m\u001b[1;33m\u001b[0m\u001b[1;33m\u001b[0m\u001b[0m\n\u001b[1;32m---> 22\u001b[1;33m \u001b[0mn\u001b[0m\u001b[1;33m,\u001b[0m \u001b[0mk\u001b[0m \u001b[1;33m=\u001b[0m \u001b[1;33m[\u001b[0m\u001b[0mint\u001b[0m\u001b[1;33m(\u001b[0m\u001b[0mi\u001b[0m\u001b[1;33m)\u001b[0m \u001b[1;32mfor\u001b[0m \u001b[0mi\u001b[0m \u001b[1;32min\u001b[0m \u001b[0minput\u001b[0m\u001b[1;33m(\u001b[0m\u001b[1;33m)\u001b[0m\u001b[1;33m.\u001b[0m\u001b[0msplit\u001b[0m\u001b[1;33m(\u001b[0m\u001b[1;33m)\u001b[0m\u001b[1;33m]\u001b[0m\u001b[1;33m\u001b[0m\u001b[1;33m\u001b[0m\u001b[0m\n\u001b[0m\u001b[0;32m     23\u001b[0m \u001b[0mprint\u001b[0m\u001b[1;33m(\u001b[0m\u001b[1;33m(\u001b[0m\u001b[0mpower_matrix\u001b[0m\u001b[1;33m(\u001b[0m\u001b[1;36m2\u001b[0m\u001b[1;33m*\u001b[0m\u001b[0mk\u001b[0m \u001b[1;33m+\u001b[0m \u001b[1;36m1\u001b[0m\u001b[1;33m,\u001b[0m \u001b[0mmod\u001b[0m\u001b[1;33m)\u001b[0m\u001b[1;33m[\u001b[0m\u001b[1;36m0\u001b[0m\u001b[1;33m]\u001b[0m\u001b[1;33m[\u001b[0m\u001b[1;36m1\u001b[0m\u001b[1;33m]\u001b[0m\u001b[1;33m*\u001b[0m\u001b[0mn\u001b[0m\u001b[1;33m)\u001b[0m\u001b[1;33m%\u001b[0m\u001b[0mmod\u001b[0m\u001b[1;33m)\u001b[0m\u001b[1;33m\u001b[0m\u001b[1;33m\u001b[0m\u001b[0m\n",
            "\u001b[1;31mValueError\u001b[0m: not enough values to unpack (expected 2, got 0)"
          ]
        }
      ],
      "source": [
        "def mul_matrix(a, b):\n",
        "    result = [[0,0],[0,0]]\n",
        "    for i in range(2):\n",
        "        for j in range(2):\n",
        "            for k in range(2):\n",
        "                result[i][j] += a[i][k]*b[k][j]\n",
        "            result[i][j] = result[i][j] % mod\n",
        "    return result\n",
        "\n",
        "def power_matrix(k, mod):\n",
        "    matrix_1 = [[1,1], [1,0]]\n",
        "    if k == 1: \n",
        "        return matrix_1\n",
        "    a = power_matrix(k//2, mod)\n",
        "    if k % 2 == 0:\n",
        "        b = a\n",
        "    else:\n",
        "        b = mul_matrix(a, matrix_1)\n",
        "    return mul_matrix(a, b)\n",
        "\n",
        "mod = 1000000007\n",
        "n, k = [int(i) for i in input().split()]\n",
        "print((power_matrix(2*k + 1, mod)[0][1]*n)%mod)"
      ]
    }
  ]
}