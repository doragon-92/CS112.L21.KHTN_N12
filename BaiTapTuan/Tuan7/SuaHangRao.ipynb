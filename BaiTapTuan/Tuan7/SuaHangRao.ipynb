{
 "metadata": {
  "language_info": {
   "codemirror_mode": {
    "name": "ipython",
    "version": 3
   },
   "file_extension": ".py",
   "mimetype": "text/x-python",
   "name": "python",
   "nbconvert_exporter": "python",
   "pygments_lexer": "ipython3",
   "version": 3
  },
  "orig_nbformat": 2
 },
 "nbformat": 4,
 "nbformat_minor": 2,
 "cells": [
  {
   "source": [
    "# Nhóm 12\n",
    "# Sửa hàng rào"
   ],
   "cell_type": "markdown",
   "metadata": {}
  },
  {
   "source": [
    "## Đề bài\n",
    "Sau khi dựng xong nhà kho chứa cỏ, dì Poly quyết định dùng m tấm gỗ còn thừa gia cố hàng rào của vườn rau ngăn không cho gà vào phá và giao công việc này cho Tôm và Hấc Phin làm. Nhiệm vụ của hai cậu bé tội nghiệp là đóng thêm vào các tấm ván hàng rào để có hàng rào mới càng cao càng tốt. Nhìn vẽ mặt buồn thiu và lóng ngóng của 2 đứa Jim quyết định sẽ làm giúp. Hàng rào được ghép từ n tấm gỗ cùng độ rộng như nhau và bằng độ rộng của các tấm gỗ còn thừa, tấm thứ i có độ cao ai, i = 1 ÷ n. Tôm và Hấc Phin chỉ phải xếp các tấm còn thừa lên xe ba gác để Jim kéo đi. Các tấm gỗ được xếp thành một chồng, tính từ trên xuống tấm thứ j có độ dài bj, j = 1 ÷ m. Jim kéo xe ba gác đi dọc theo hàng rào. Đến một tấm nào đó muốn gia cố Jim sẽ lấy một tấm gỗ từ xe đóng tiếp lên tấm gỗ trên hàng rào và độ cao mới của tấm này trên hàng rào sẽ là tổng độ cao của tấm cũ và tấm mới đóng thêm. Jim chỉ đóng thêm một tấm mới vào tấm cũ vì muốn đảm bảo độ chắc chắn của hàng rào. Jim có thể lấy tấm trên cùng ở xe hoặc vất ra khỏi xe một số tấm cho đến khi gặp tấm vừa ý. Người ta vẫn nói “Khôn đâu tới trẻ, khỏe đâu tới già!”  Jim đã đứng tuổi và không còn sức để xếp lại các tấm gỗ bị bỏ ra vào xe. Ngoài ra, Jim cũng khá mê tín nên không quay lại lấy những tấm đã loại.\n",
    "\n",
    "Hãy xác định độ cao lớn nhất có thể đạt được của hàng rào sau khi gia cố. Độ cao của hàng rào được tính bằng độ cao tấm gỗ thấp nhất trên hàng rào.\n",
    "\n",
    "Dữ liệu: Vào từ thiết bị nhập chuẩn:\n",
    "\n",
    "Dòng đầu tiên chứa số nguyên n (1 ≤ n ≤ 105),\n",
    "\n",
    "Dòng thứ 2 chứa n số nguyên a1, a2, . . ., an (1 ≤ ai ≤ 108, i = 1 ÷ n),\n",
    "\n",
    "Dòng thứ 3 chứa số nguyên m  (1 ≤ m ≤ 105),\n",
    "\n",
    "Dòng cuối cùng chứ m số nguyên b1, b2, . . ., bm (1 ≤ bj ≤ 108, j = 1÷ m).\n",
    "\n",
    "Kết quả: Đưa ra thiết bị xuất chuẩn, dòng đầu tiên chứa 2 số nguyên h và k – độ cao lớn nhất có thể của hàng rào và số tấm gỗ đã được đóng thêm, mỗi dòng trong k dòng tiếp theo chứa 2 số nguyên x và y, trong đó x – tấm gỗ trên hàng rào được đóng cao hơn, y – tấm gỗ được dùng để đóng. Đưa ra phương án có các số hiệu tấm ván được chọn là nhỏ nhất nếu tồn tại nhiều cách đóng khác nhau.\n",
    "\n"
   ],
   "cell_type": "markdown",
   "metadata": {}
  },
  {
   "source": [
    "## 1. Abstraction\n",
    "Cho 2 dãy số A, B; tìm dãy C gồm phần tử lấy từ A và B sao cho chỉ số các phần tử lấy từ A và B tăng dần và đảm bảo phép tính tổng phần tử dãy A với phần tử dãy B tương ứng liệt kê trong dãy C sẽ cho phần tử nhỏ nhất của dãy A sau khi tính là lớn nhất có thể ."
   ],
   "cell_type": "markdown",
   "metadata": {}
  },
  {
   "source": [
    "## 2. Pattern Recognition\n",
    "Tìm kiếm nhị phân"
   ],
   "cell_type": "markdown",
   "metadata": {}
  },
  {
   "source": [
    "## 3. Algorithm Design\n",
    "Để giải bài toán trên ta cần 2 phần\n",
    "\n",
    "Bước 1: Tìm chọn giá trị nhỏ nhất sau cùng khả thi dựa trên phương pháp tìm kiếm nhị phân\n",
    "\n",
    "Đầu tiên, ta chọn cận trái và cận phải của tập giá trị tìm kiếm. Cận trái là giá trị nhỏ nhất của mảng A, cận phải là tổng giá trị nhỏ nhất của dãy A và giá trị lớn nhất của dãy B.\n",
    "\n",
    "Chọn phần tử trung vị của tập tìm kiếm và kiểm tra ở bước 2, nếu kết quả trả về là True (có thể tạo được dãy mới sao cho giá trị nhỏ nhất thỏa mãn phần tử trung vị) thì tiếp tục thử ở đoạn bên phải, nếu kết quả trả về False thì tìm ở đoạn bên trái.\n",
    "\n",
    "Bước 2: Kiểm tra lựa chọn trên\n",
    "\n",
    "Kiểm tra từng phần tử trong A cộng thêm phần tử ở dãy B có lớn hơn phần tử trung vị được chọn không, nếu không thỏa thì chọn phần tử tiếp theo của dãy B. Nếu duyệt hết dãy A thì trả về True, nếu dãy A chưa thỏa hết mà không còn phần tử dãy B thì trả về False.\n",
    "\n",
    "### Mã giả\n",
    "```\n",
    "FUNCTION binary_selection:\n",
    "    DECLARE left = min(A)\n",
    "    DECLARE right = min(A) + max(B)\n",
    "\n",
    "    WHILE(left <= right):\n",
    "        mid = (left + right) // 2\n",
    "        IF (check(mid)):\n",
    "            left = mid + 1\n",
    "        ELSE:\n",
    "            right = mid - 1\n",
    "    RETURN right\n",
    "\n",
    " \n",
    "```\n"
   ],
   "cell_type": "markdown",
   "metadata": {}
  },
  {
   "source": [
    "## 4. Algorithm Complexity\n",
    "$O(nlog(n))$"
   ],
   "cell_type": "markdown",
   "metadata": {}
  },
  {
   "source": [
    "## 5. Programming\n"
   ],
   "cell_type": "markdown",
   "metadata": {}
  },
  {
   "cell_type": "code",
   "execution_count": null,
   "metadata": {},
   "outputs": [],
   "source": [
    "import io, os, time\n",
    "\n",
    "input = io.BytesIO(os.read(0, os.fstat(0).st_size)).readline\n",
    "\n",
    "n = int(input())\n",
    "A = list(map(int, input().split()))\n",
    "m = int(input())\n",
    "B = list(map(int, input().split()))\n",
    "minA = min(A)\n",
    "maxB = max(B)\n",
    "max_mid = minA + maxB \n",
    "min_mid = minA\n",
    "def check(mid):\n",
    "    j = 0\n",
    "    for i in range(n):\n",
    "        if A[i] < mid:\n",
    "            T = False\n",
    "            while j < m:\n",
    "                if B[j] + A[i] >= mid:\n",
    "                    T = True\n",
    "                    j += 1\n",
    "                    break\n",
    "                j += 1\n",
    "            if T == False:\n",
    "                return False\n",
    "    return True\n",
    "\n",
    "def find_mid():\n",
    "    l = min_mid\n",
    "    r = max_mid\n",
    "    while(l <= r):\n",
    "        mid = (l + r)//2\n",
    "        if (check(mid)):\n",
    "            l = mid + 1\n",
    "        else:\n",
    "            r = mid - 1\n",
    "    return r\n",
    "\n",
    "def print_result(h):\n",
    "    j = 0\n",
    "    KQ = []\n",
    "    for i in range(n):\n",
    "        if A[i] < h:\n",
    "            while j < m:\n",
    "                if B[j] + A[i] >= h:\n",
    "                    j += 1\n",
    "                    break\n",
    "                j+= 1\n",
    "            KQ.append((i + 1, j))\n",
    "    print(h, len(KQ))\n",
    "    for x in KQ:\n",
    "        print(x[0], x[1])\n",
    "\n",
    "\n",
    "print_result(find_mid())"
   ]
  }
 ]
}