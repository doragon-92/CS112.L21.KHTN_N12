{
 "metadata": {
  "language_info": {
   "codemirror_mode": {
    "name": "ipython",
    "version": 3
   },
   "file_extension": ".py",
   "mimetype": "text/x-python",
   "name": "python",
   "nbconvert_exporter": "python",
   "pygments_lexer": "ipython3",
   "version": "3.8.6"
  },
  "orig_nbformat": 2,
  "kernelspec": {
   "name": "python386jvsc74a57bd0e7370f93d1d0cde622a1f8e1c04877d8463912d04d973331ad4851f04de6915a",
   "display_name": "Python 3.8.6 64-bit"
  },
  "metadata": {
   "interpreter": {
    "hash": "e7370f93d1d0cde622a1f8e1c04877d8463912d04d973331ad4851f04de6915a"
   }
  }
 },
 "nbformat": 4,
 "nbformat_minor": 2,
 "cells": [
  {
   "source": [
    "# PHÂN SỐ\n",
    "\n",
    "Cho 2 phân số đúng và tối giản  $\\frac{a}{b}, \\frac{c}{d}$. Mỗi phép biến đổi là tăng **a** và **b** lên 1, sau đó giản ước phân số nhận được.\n",
    "\n",
    "Hãy xác định sau bao nhiêu bước biến đổi từ phân số thứ nhất ban đầu nhận được phân số thứ 2 đã cho.\n",
    "\n",
    "Dữ liệu: Vào từ thiết bị nhập chuẩn gồm 4 dòng, mỗi dòng chứa 1 số nguyên **a, b, c, d**, $0 < a < b ≤105, 0 < c < d ≤ 105$, **a** và **b** nguyên tố cùng nhau, **c** và **d** nguyên tố cùng nhau   $\\frac{a}{b} \\ne \\frac{c}{d}$\n",
    "\n",
    "Kết quả: Đưa ra thiết bị xuất chuẩn số 0 nếu không có cách biến đổi hoặc một số nguyên bằng số lượng phép biến đổi.\n",
    "\n",
    "Ví dụ:\n",
    "\n",
    "**INPUT:**\n",
    "\n",
    "1\n",
    "\n",
    "6\n",
    "\n",
    "2\n",
    "\n",
    "3\n",
    "\n",
    "**OUTPUT:**\n",
    "\n",
    "\n",
    " \n",
    "\n",
    "5\n",
    "\n"
   ],
   "cell_type": "markdown",
   "metadata": {}
  },
  {
   "source": [
    "## 1.Abstraction\n",
    "\n",
    "cho 4 số nguyên dương a, b , c, d sau một lần biến đổi thì **a** và **b** tăng thêm 1 đơn vị và chia cho ước chung lớn nhất của a và b. Tìm số lần biến đổi để a*d = b*c"
   ],
   "cell_type": "markdown",
   "metadata": {}
  },
  {
   "source": [
    "## 2.Pattern Recognition\n",
    "- Duyệt tuyến tính\n",
    "- Vắt cạn"
   ],
   "cell_type": "markdown",
   "metadata": {}
  },
  {
   "source": [
    "## 3.Algorithm Design\n",
    "- Viết một hàm để tối giản phân số\n",
    "- Mỗi vòn lặp cho a, b tăng lên 1 đơn vị và rút gọn phân số $\\frac{a}{b}$ đến khi $ad > bc$\n",
    "    - Tạo biến flag để bật khi $ad = bc$\n",
    "    - Biến i để đếm số lần lặp\n",
    "- Nếu flag = 1 thì output = i, nếu flag = 0 thì output = 0"
   ],
   "cell_type": "markdown",
   "metadata": {}
  },
  {
   "source": [
    "## 5.Programing"
   ],
   "cell_type": "markdown",
   "metadata": {}
  },
  {
   "cell_type": "code",
   "execution_count": null,
   "metadata": {},
   "outputs": [],
   "source": [
    "import math\n",
    "a = int(input())\n",
    "b = int(input())\n",
    "c = int(input())\n",
    "d = int(input())\n",
    "\n",
    "def reduce(a,b):\n",
    "    ucln = math.gcd(int(a),int(b))\n",
    "    return a/ucln,b/ucln\n",
    "    \n",
    "i = 0\n",
    "flag = 0\n",
    "while (a * d <= b * c):\n",
    "    i+=1\n",
    "    a,b = reduce(a+1,b+1)\n",
    "    if (a/b) == (c/d):\n",
    "        flag = 1\n",
    "        break\n",
    "if flag == 0:\n",
    "    print(0)\n",
    "else:\n",
    "    print(i)"
   ]
  }
 ]
}