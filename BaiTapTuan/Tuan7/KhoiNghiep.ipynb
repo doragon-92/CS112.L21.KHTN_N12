{
 "metadata": {
  "language_info": {
   "codemirror_mode": {
    "name": "ipython",
    "version": 3
   },
   "file_extension": ".py",
   "mimetype": "text/x-python",
   "name": "python",
   "nbconvert_exporter": "python",
   "pygments_lexer": "ipython3",
   "version": 3
  },
  "orig_nbformat": 2
 },
 "nbformat": 4,
 "nbformat_minor": 2,
 "cells": [
  {
   "source": [
    "# Nhóm 12\n",
    "# Khởi nghiệp"
   ],
   "cell_type": "markdown",
   "metadata": {}
  },
  {
   "source": [
    "## Đề bài\n",
    "KHỞI NGHIỆP\n",
    "Sau thời gian làm việc tại nhà (work from home) do tình hình dịch bệnh, công ty X nhận thấy đây là cơ hội để thay đổi mô hình làm việc của công ty để hướng tới tính đơn giản, hiệu quả cao hơn trong công việc. Cụ thể, công ty hiện tại gồm n nhân viên. Có m quan hệ dạng (ai, bi) trong đó người bi nhận công việc từ người ai và ai chỉ đạo cho bi. Mỗi nhân viên khi nhận việc có thể phân công cho những nhân viên do mình chỉ đạo. Nếu công viêc từ a có thể tới được b, ta gọi a là cấp trên của b và b là cấp dưới của a.\n",
    "\n",
    "Sau khi họp đại hội cổ ccông trực tuyến, công ty X quyết định thực hiện tái cấu trúc như sau:\n",
    "\n",
    "Thứ nhất, chọn ra một giám đốc, người này phải là người không có cấp trên và công việc mà người này phân công có thể tới được mọi người trong công ty;\n",
    "Những người còn lại, mỗi người sẽ chỉ còn nhận việc trực tiếp từ đúng 1 người. Để tránh xáo trộn trong hoạt động sau khi thực hiện thay đổi, với mỗi người, tập những người là cấp trên của người đó phải không thay đổi (so với trước khi thực hiện tái cấu trúc).\n",
    "Yêu cầu: Xác định công ty X có thể tái cấu trúc hay không, nếu không được - đưa ra thông báo “No”. Trong trường hợp có thể – đưa ra thông báo “Yes” và chỉ ra dãy số pi xác định người có quyền phân công công việc cho người i (1 ≤ i ≤ n). Với Giám đốc pi tương ứng có giá trị là -1.\n",
    "\n",
    "Dữ liệu: Vào từ file thiết bị nhập chuẩn:\n",
    "\n",
    "Dòng đầu tiên chứa 2 số nguyên n và m (1 ≤ n, m ≤ 5×105),\n",
    "\n",
    "Dòng thứ i trong m dòng sau chứa 2 số nguyên ai và bi (1 ≤ ai, bi ≤ n, ai ≠ bi).\n",
    "\n",
    "Kết quả: Đưa ra thiết bị xuất chuẩn thông báo “No” hoặc “Yes”. Nếu kết quả là “Yes” – trên dòng thứ 2 đưa ra n số nguyên p1, p2, . . ., pn tương ứng.\n"
   ],
   "cell_type": "markdown",
   "metadata": {}
  },
  {
   "source": [
    "## 1. Abstraction"
   ],
   "cell_type": "markdown",
   "metadata": {}
  },
  {
   "source": [
    "## 2. Pattern Recognition"
   ],
   "cell_type": "markdown",
   "metadata": {}
  },
  {
   "source": [
    "## 3. Algorithm Design"
   ],
   "cell_type": "markdown",
   "metadata": {}
  },
  {
   "source": [
    "## 4. Algorithm Complexity"
   ],
   "cell_type": "markdown",
   "metadata": {}
  },
  {
   "source": [
    "## 5. Programming\n"
   ],
   "cell_type": "markdown",
   "metadata": {}
  },
  {
   "cell_type": "code",
   "execution_count": null,
   "metadata": {},
   "outputs": [],
   "source": [
    "import io, os, time\n",
    "\n",
    "input = io.BytesIO(os.read(0, os.fstat(0).st_size)).readline\n",
    "\n",
    "n = int(input())\n",
    "A = list(map(int, input().split()))\n",
    "m = int(input())\n",
    "B = list(map(int, input().split()))\n",
    "minA = min(A)\n",
    "maxB = max(B)\n",
    "max_mid = minA + maxB \n",
    "min_mid = minA\n",
    "def check(mid):\n",
    "    j = 0\n",
    "    for i in range(n):\n",
    "        if A[i] < mid:\n",
    "            T = False\n",
    "            while j < m:\n",
    "                if B[j] + A[i] >= mid:\n",
    "                    T = True\n",
    "                    j += 1\n",
    "                    break\n",
    "                j += 1\n",
    "            if T == False:\n",
    "                return False\n",
    "    return True\n",
    "\n",
    "def find_mid():\n",
    "    l = min_mid\n",
    "    r = max_mid\n",
    "    while(l <= r):\n",
    "        mid = (l + r)//2\n",
    "        if (check(mid)):\n",
    "            l = mid + 1\n",
    "        else:\n",
    "            r = mid - 1\n",
    "    return r\n",
    "\n",
    "def print_result(h):\n",
    "    j = 0\n",
    "    KQ = []\n",
    "    for i in range(n):\n",
    "        if A[i] < h:\n",
    "            while j < m:\n",
    "                if B[j] + A[i] >= h:\n",
    "                    j += 1\n",
    "                    break\n",
    "                j+= 1\n",
    "            KQ.append((i + 1, j))\n",
    "    print(h, len(KQ))\n",
    "    for x in KQ:\n",
    "        print(x[0], x[1])\n",
    "\n",
    "\n",
    "print_result(find_mid())"
   ]
  }
 ]
}